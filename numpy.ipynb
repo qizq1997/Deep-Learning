{
 "cells": [
  {
   "cell_type": "code",
   "id": "initial_id",
   "metadata": {
    "collapsed": true,
    "ExecuteTime": {
     "end_time": "2024-08-20T03:11:49.376873Z",
     "start_time": "2024-08-20T03:11:49.373438Z"
    }
   },
   "source": [
    "n = 10\n",
    "\n",
    "x = [i for i in range(n + 1)]\n",
    "sum = 0\n",
    "for i in x:\n",
    "    #print(i)\n",
    "    sum += i**2\n",
    "    #print(sum)\n",
    "\n",
    "print(sum)"
   ],
   "outputs": [
    {
     "name": "stdout",
     "output_type": "stream",
     "text": [
      "385\n"
     ]
    }
   ],
   "execution_count": 5
  },
  {
   "metadata": {
    "ExecuteTime": {
     "end_time": "2024-08-20T03:15:11.552552Z",
     "start_time": "2024-08-20T03:15:11.548023Z"
    }
   },
   "cell_type": "code",
   "source": [
    "import numpy as np\n",
    "\n",
    "a = np.arange(n+1)\n",
    "#print(a)\n",
    "\n",
    "np.sum(a **2)\n",
    "\n"
   ],
   "id": "a80ac50080afe02d",
   "outputs": [
    {
     "data": {
      "text/plain": [
       "385"
      ]
     },
     "execution_count": 12,
     "metadata": {},
     "output_type": "execute_result"
    }
   ],
   "execution_count": 12
  },
  {
   "metadata": {
    "ExecuteTime": {
     "end_time": "2024-08-20T03:27:37.522542Z",
     "start_time": "2024-08-20T03:27:37.518333Z"
    }
   },
   "cell_type": "code",
   "source": "np.arange(10).reshape(2,5)",
   "id": "6aeef4d7215ce510",
   "outputs": [
    {
     "data": {
      "text/plain": [
       "array([[0, 1, 2, 3, 4],\n",
       "       [5, 6, 7, 8, 9]])"
      ]
     },
     "execution_count": 14,
     "metadata": {},
     "output_type": "execute_result"
    }
   ],
   "execution_count": 14
  },
  {
   "metadata": {
    "ExecuteTime": {
     "end_time": "2024-08-20T03:29:08.412081Z",
     "start_time": "2024-08-20T03:29:08.407369Z"
    }
   },
   "cell_type": "code",
   "source": "np.random.random((2,5))",
   "id": "857e7deb1e72b1d3",
   "outputs": [
    {
     "data": {
      "text/plain": [
       "array([[0.52760611, 0.80387168, 0.78751804, 0.62375931, 0.30059171],\n",
       "       [0.99518626, 0.59740001, 0.26387797, 0.03260281, 0.92047466]])"
      ]
     },
     "execution_count": 16,
     "metadata": {},
     "output_type": "execute_result"
    }
   ],
   "execution_count": 16
  },
  {
   "metadata": {
    "ExecuteTime": {
     "end_time": "2024-08-20T03:29:36.506854Z",
     "start_time": "2024-08-20T03:29:36.501830Z"
    }
   },
   "cell_type": "code",
   "source": "np.random.rand(2,5)",
   "id": "83c977a36b175c15",
   "outputs": [
    {
     "data": {
      "text/plain": [
       "array([[0.78984207, 0.09418995, 0.76408888, 0.81960088, 0.80954743],\n",
       "       [0.45145674, 0.88080358, 0.15607291, 0.74140629, 0.41624372]])"
      ]
     },
     "execution_count": 17,
     "metadata": {},
     "output_type": "execute_result"
    }
   ],
   "execution_count": 17
  },
  {
   "metadata": {
    "ExecuteTime": {
     "end_time": "2024-08-20T03:32:14.741902Z",
     "start_time": "2024-08-20T03:32:14.738024Z"
    }
   },
   "cell_type": "code",
   "source": [
    "np.random.seed(1)\n",
    "np.random.rand(2,3,4)"
   ],
   "id": "4e10a8d0e7eac1df",
   "outputs": [
    {
     "data": {
      "text/plain": [
       "array([[[4.17022005e-01, 7.20324493e-01, 1.14374817e-04, 3.02332573e-01],\n",
       "        [1.46755891e-01, 9.23385948e-02, 1.86260211e-01, 3.45560727e-01],\n",
       "        [3.96767474e-01, 5.38816734e-01, 4.19194514e-01, 6.85219500e-01]],\n",
       "\n",
       "       [[2.04452250e-01, 8.78117436e-01, 2.73875932e-02, 6.70467510e-01],\n",
       "        [4.17304802e-01, 5.58689828e-01, 1.40386939e-01, 1.98101489e-01],\n",
       "        [8.00744569e-01, 9.68261576e-01, 3.13424178e-01, 6.92322616e-01]]])"
      ]
     },
     "execution_count": 21,
     "metadata": {},
     "output_type": "execute_result"
    }
   ],
   "execution_count": 21
  },
  {
   "metadata": {
    "ExecuteTime": {
     "end_time": "2024-08-20T03:34:40.844931Z",
     "start_time": "2024-08-20T03:34:40.841402Z"
    }
   },
   "cell_type": "code",
   "source": "np.random.normal(5,1000,10)",
   "id": "eb0ee0dcdeffdc2f",
   "outputs": [
    {
     "data": {
      "text/plain": [
       "array([-117.89022552, -930.76943426, -262.88807963,  535.35546674,\n",
       "       -686.66075173, -391.75352686, -682.17270012, -840.2056415 ,\n",
       "       -666.24613084,   -7.66459892])"
      ]
     },
     "execution_count": 23,
     "metadata": {},
     "output_type": "execute_result"
    }
   ],
   "execution_count": 23
  },
  {
   "metadata": {
    "ExecuteTime": {
     "end_time": "2024-08-20T06:11:14.763767Z",
     "start_time": "2024-08-20T06:11:14.760300Z"
    }
   },
   "cell_type": "code",
   "source": [
    "a = np.random.uniform(5,1000,size = (2,5))\n",
    "print(a)"
   ],
   "id": "1959ee93b19de118",
   "outputs": [
    {
     "name": "stdout",
     "output_type": "stream",
     "text": [
      "[[430.95073392 965.01584691 665.12429033 623.58724161 119.17224309]\n",
      " [949.74181241 452.66257281 580.49766632 411.09611875 240.84184534]]\n"
     ]
    }
   ],
   "execution_count": 28
  },
  {
   "metadata": {
    "ExecuteTime": {
     "end_time": "2024-08-20T06:28:07.757201Z",
     "start_time": "2024-08-20T06:28:07.753153Z"
    }
   },
   "cell_type": "code",
   "source": [
    "a[:1,:3]\n",
    "\n"
   ],
   "id": "ff3c74f86f81ab3b",
   "outputs": [
    {
     "data": {
      "text/plain": [
       "array([[430.95073392, 965.01584691, 665.12429033]])"
      ]
     },
     "execution_count": 31,
     "metadata": {},
     "output_type": "execute_result"
    }
   ],
   "execution_count": 31
  },
  {
   "metadata": {
    "ExecuteTime": {
     "end_time": "2024-08-20T06:28:56.746925Z",
     "start_time": "2024-08-20T06:28:56.741953Z"
    }
   },
   "cell_type": "code",
   "source": [
    "x = np.arange(12).reshape(3,4)\n",
    "y = np.arange(4).reshape(1,4)\n",
    "\n",
    "np.concatenate((x,y))"
   ],
   "id": "75e5a5f39dd90b86",
   "outputs": [
    {
     "data": {
      "text/plain": [
       "array([[ 0,  1,  2,  3],\n",
       "       [ 4,  5,  6,  7],\n",
       "       [ 8,  9, 10, 11],\n",
       "       [ 0,  1,  2,  3]])"
      ]
     },
     "execution_count": 32,
     "metadata": {},
     "output_type": "execute_result"
    }
   ],
   "execution_count": 32
  },
  {
   "metadata": {
    "ExecuteTime": {
     "end_time": "2024-08-20T06:34:12.732560Z",
     "start_time": "2024-08-20T06:34:12.729432Z"
    }
   },
   "cell_type": "code",
   "source": "np.arange(24).reshape(2, 3, 4)",
   "id": "84b3153b77b0162d",
   "outputs": [
    {
     "data": {
      "text/plain": [
       "array([[[ 0,  1,  2,  3],\n",
       "        [ 4,  5,  6,  7],\n",
       "        [ 8,  9, 10, 11]],\n",
       "\n",
       "       [[12, 13, 14, 15],\n",
       "        [16, 17, 18, 19],\n",
       "        [20, 21, 22, 23]]])"
      ]
     },
     "execution_count": 33,
     "metadata": {},
     "output_type": "execute_result"
    }
   ],
   "execution_count": 33
  },
  {
   "metadata": {},
   "cell_type": "code",
   "outputs": [],
   "execution_count": null,
   "source": " ",
   "id": "6f5047b88d65231e"
  }
 ],
 "metadata": {
  "kernelspec": {
   "display_name": "Python 3",
   "language": "python",
   "name": "python3"
  },
  "language_info": {
   "codemirror_mode": {
    "name": "ipython",
    "version": 2
   },
   "file_extension": ".py",
   "mimetype": "text/x-python",
   "name": "python",
   "nbconvert_exporter": "python",
   "pygments_lexer": "ipython2",
   "version": "2.7.6"
  }
 },
 "nbformat": 4,
 "nbformat_minor": 5
}
